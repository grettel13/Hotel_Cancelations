{
 "cells": [
  {
   "cell_type": "markdown",
   "metadata": {},
   "source": [
    "# Part 2: Baseball Data\n",
    "\n",
    "*Introductory - Intermediate level SQL*\n",
    "\n",
    "---\n",
    "\n",
    "## Setup\n",
    "\n",
    "`cd` into the directory you'd like to use for this challenge. Then, download the Lahman SQL Lite dataset\n",
    "\n",
    "```\n",
    "curl -L -o lahman.sqlite https://github.com/WebucatorTraining/lahman-baseball-mysql/raw/master/lahmansbaseballdb.sqlite\n",
    "```\n",
    "\n",
    "*The `-L` follows redirects, and the `-o` uses the filename instead of outputting to the terminal.*\n",
    "\n",
    "Make sure sqlite3 is installed\n",
    "\n",
    "```\n",
    "conda install -c anaconda sqlite\n",
    "```\n",
    "\n",
    "In your notebook, check out the schema"
   ]
  },
  {
   "cell_type": "code",
   "execution_count": 3,
   "metadata": {},
   "outputs": [
    {
     "output_type": "execute_result",
     "data": {
      "text/plain": [
       "array(['allstarfull', 'appearances', 'awardsmanagers', 'awardsplayers',\n",
       "       'awardssharemanagers', 'awardsshareplayers', 'batting',\n",
       "       'battingpost', 'collegeplaying', 'divisions', 'fielding',\n",
       "       'fieldingof', 'fieldingofsplit', 'fieldingpost', 'halloffame',\n",
       "       'homegames', 'leagues', 'managers', 'managershalf', 'parks',\n",
       "       'people', 'pitching', 'pitchingpost', 'salaries', 'schools',\n",
       "       'seriespost', 'teams', 'teamsfranchises', 'teamshalf'],\n",
       "      dtype=object)"
      ]
     },
     "metadata": {},
     "execution_count": 3
    }
   ],
   "source": [
    "import pandas as pd\n",
    "import sqlite3\n",
    "\n",
    "conn = sqlite3.connect('../../baseball_data/lahman.sqlite')\n",
    "\n",
    "query = \"SELECT * FROM sqlite_master;\"\n",
    "\n",
    "df_schema = pd.read_sql_query(query, conn)\n",
    "\n",
    "df_schema.tbl_name.unique()"
   ]
  },
  {
   "cell_type": "markdown",
   "metadata": {},
   "source": [
    "Please complete this exercise using SQL Lite (i.e., the Lahman baseball data, above) and your Jupyter notebook.\n",
    "\n",
    "1. What was the total spent on salaries by each team, each year?"
   ]
  },
  {
   "cell_type": "code",
   "execution_count": 17,
   "metadata": {},
   "outputs": [
    {
     "output_type": "execute_result",
     "data": {
      "text/plain": [
       "  teamID  yearID  totalSalaries\n",
       "0    ATL    1985     14807000.0\n",
       "1    BAL    1985     11560712.0\n",
       "2    BOS    1985     10897560.0\n",
       "3    CAL    1985     14427894.0\n",
       "4    CHA    1985      9846178.0"
      ],
      "text/html": "<div>\n<style scoped>\n    .dataframe tbody tr th:only-of-type {\n        vertical-align: middle;\n    }\n\n    .dataframe tbody tr th {\n        vertical-align: top;\n    }\n\n    .dataframe thead th {\n        text-align: right;\n    }\n</style>\n<table border=\"1\" class=\"dataframe\">\n  <thead>\n    <tr style=\"text-align: right;\">\n      <th></th>\n      <th>teamID</th>\n      <th>yearID</th>\n      <th>totalSalaries</th>\n    </tr>\n  </thead>\n  <tbody>\n    <tr>\n      <th>0</th>\n      <td>ATL</td>\n      <td>1985</td>\n      <td>14807000.0</td>\n    </tr>\n    <tr>\n      <th>1</th>\n      <td>BAL</td>\n      <td>1985</td>\n      <td>11560712.0</td>\n    </tr>\n    <tr>\n      <th>2</th>\n      <td>BOS</td>\n      <td>1985</td>\n      <td>10897560.0</td>\n    </tr>\n    <tr>\n      <th>3</th>\n      <td>CAL</td>\n      <td>1985</td>\n      <td>14427894.0</td>\n    </tr>\n    <tr>\n      <th>4</th>\n      <td>CHA</td>\n      <td>1985</td>\n      <td>9846178.0</td>\n    </tr>\n  </tbody>\n</table>\n</div>"
     },
     "metadata": {},
     "execution_count": 17
    }
   ],
   "source": [
    "query = '''\n",
    "SELECT teamID, yearID, SUM(salary) AS totalSalaries\n",
    "FROM salaries\n",
    "GROUP BY teamID, yearID;\n",
    "'''\n",
    "\n",
    "df = pd.read_sql_query(query, conn)\n",
    "df.head()"
   ]
  },
  {
   "cell_type": "markdown",
   "metadata": {},
   "source": [
    "2. What is the first and last year played for each player? *Hint:* Create a new table from 'Fielding.csv'."
   ]
  },
  {
   "cell_type": "code",
   "execution_count": 18,
   "metadata": {},
   "outputs": [
    {
     "output_type": "execute_result",
     "data": {
      "text/plain": [
       "    playerID  firstYear  lastYear\n",
       "0  aardsda01       2004      2015\n",
       "1  aaronha01       1954      1976\n",
       "2  aaronto01       1962      1971\n",
       "3   aasedo01       1977      1990\n",
       "4   abadan01       2001      2003"
      ],
      "text/html": "<div>\n<style scoped>\n    .dataframe tbody tr th:only-of-type {\n        vertical-align: middle;\n    }\n\n    .dataframe tbody tr th {\n        vertical-align: top;\n    }\n\n    .dataframe thead th {\n        text-align: right;\n    }\n</style>\n<table border=\"1\" class=\"dataframe\">\n  <thead>\n    <tr style=\"text-align: right;\">\n      <th></th>\n      <th>playerID</th>\n      <th>firstYear</th>\n      <th>lastYear</th>\n    </tr>\n  </thead>\n  <tbody>\n    <tr>\n      <th>0</th>\n      <td>aardsda01</td>\n      <td>2004</td>\n      <td>2015</td>\n    </tr>\n    <tr>\n      <th>1</th>\n      <td>aaronha01</td>\n      <td>1954</td>\n      <td>1976</td>\n    </tr>\n    <tr>\n      <th>2</th>\n      <td>aaronto01</td>\n      <td>1962</td>\n      <td>1971</td>\n    </tr>\n    <tr>\n      <th>3</th>\n      <td>aasedo01</td>\n      <td>1977</td>\n      <td>1990</td>\n    </tr>\n    <tr>\n      <th>4</th>\n      <td>abadan01</td>\n      <td>2001</td>\n      <td>2003</td>\n    </tr>\n  </tbody>\n</table>\n</div>"
     },
     "metadata": {},
     "execution_count": 18
    }
   ],
   "source": [
    "query = '''\n",
    "SELECT playerID, MIN(yearID) AS firstYear, MAX(yearID) AS lastYear\n",
    "FROM fielding\n",
    "GROUP BY playerID;\n",
    "'''\n",
    "\n",
    "df = pd.read_sql_query(query, conn)\n",
    "df.head()"
   ]
  },
  {
   "cell_type": "markdown",
   "metadata": {},
   "source": [
    "3. Who has played the most all star games?"
   ]
  },
  {
   "cell_type": "code",
   "execution_count": 38,
   "metadata": {},
   "outputs": [
    {
     "output_type": "execute_result",
     "data": {
      "text/plain": [
       "             name  games\n",
       "0     Henry Louis     24\n",
       "1   Willie Howard     24\n",
       "2   Stanley Frank     24\n",
       "3  Mickey Charles     19\n",
       "4    Calvin Edwin     19"
      ],
      "text/html": "<div>\n<style scoped>\n    .dataframe tbody tr th:only-of-type {\n        vertical-align: middle;\n    }\n\n    .dataframe tbody tr th {\n        vertical-align: top;\n    }\n\n    .dataframe thead th {\n        text-align: right;\n    }\n</style>\n<table border=\"1\" class=\"dataframe\">\n  <thead>\n    <tr style=\"text-align: right;\">\n      <th></th>\n      <th>name</th>\n      <th>games</th>\n    </tr>\n  </thead>\n  <tbody>\n    <tr>\n      <th>0</th>\n      <td>Henry Louis</td>\n      <td>24</td>\n    </tr>\n    <tr>\n      <th>1</th>\n      <td>Willie Howard</td>\n      <td>24</td>\n    </tr>\n    <tr>\n      <th>2</th>\n      <td>Stanley Frank</td>\n      <td>24</td>\n    </tr>\n    <tr>\n      <th>3</th>\n      <td>Mickey Charles</td>\n      <td>19</td>\n    </tr>\n    <tr>\n      <th>4</th>\n      <td>Calvin Edwin</td>\n      <td>19</td>\n    </tr>\n  </tbody>\n</table>\n</div>"
     },
     "metadata": {},
     "execution_count": 38
    }
   ],
   "source": [
    "query = '''\n",
    "SELECT nameGiven AS name, COUNT(gameID) AS games\n",
    "FROM allstarfull\n",
    "JOIN people ON allstarfull.playerID = people.playerID\n",
    "GROUP BY allstarfull.playerID\n",
    "ORDER BY COUNT(*) DESC;\n",
    "'''\n",
    "\n",
    "df = pd.read_sql_query(query, conn)\n",
    "df.head()"
   ]
  },
  {
   "cell_type": "markdown",
   "metadata": {},
   "source": [
    "4. Which school has generated the most distinct players? *Hint:* Create new table from 'CollegePlaying.csv'."
   ]
  },
  {
   "cell_type": "code",
   "execution_count": 58,
   "metadata": {},
   "outputs": [
    {
     "output_type": "execute_result",
     "data": {
      "text/plain": [
       "                      schoolName  distinctPlayers\n",
       "0  University of Texas at Austin              107"
      ],
      "text/html": "<div>\n<style scoped>\n    .dataframe tbody tr th:only-of-type {\n        vertical-align: middle;\n    }\n\n    .dataframe tbody tr th {\n        vertical-align: top;\n    }\n\n    .dataframe thead th {\n        text-align: right;\n    }\n</style>\n<table border=\"1\" class=\"dataframe\">\n  <thead>\n    <tr style=\"text-align: right;\">\n      <th></th>\n      <th>schoolName</th>\n      <th>distinctPlayers</th>\n    </tr>\n  </thead>\n  <tbody>\n    <tr>\n      <th>0</th>\n      <td>University of Texas at Austin</td>\n      <td>107</td>\n    </tr>\n  </tbody>\n</table>\n</div>"
     },
     "metadata": {},
     "execution_count": 58
    }
   ],
   "source": [
    "query = '''\n",
    "SELECT name_full AS schoolName, COUNT(DISTINCT(playerID)) AS distinctPlayers\n",
    "FROM collegeplaying\n",
    "JOIN schools ON collegeplaying.schoolID = schools.schoolID\n",
    "GROUP BY collegeplaying.schoolID\n",
    "ORDER BY COUNT(DISTINCT(playerID)) DESC\n",
    "LIMIT 1\n",
    "'''\n",
    "df = pd.read_sql_query(query, conn)\n",
    "df.head()"
   ]
  },
  {
   "cell_type": "markdown",
   "metadata": {},
   "source": [
    "5. Which players have the longest career? Assume that the `debut` and `finalGame` columns comprise the start and end, respectively, of a player's career. *Hint:* Create a new table from 'Master.csv'. Also note that strings can be converted to dates using the [`DATE`](https://wiki.postgresql.org/wiki/Working_with_Dates_and_Times_in_PostgreSQL#WORKING_with_DATETIME.2C_DATE.2C_and_INTERVAL_VALUES) function and can then be subtracted from each other yielding their difference in days."
   ]
  },
  {
   "cell_type": "code",
   "execution_count": 69,
   "metadata": {},
   "outputs": [
    {
     "output_type": "execute_result",
     "data": {
      "text/plain": [
       "                 nameGiven  careerLength\n",
       "0                 Nicholas          35.0\n",
       "1              James Henry          32.0\n",
       "2  Saturnino Orestes Armas          31.0\n",
       "3          Charles Timothy          30.0\n",
       "4         Walter Arlington          29.0"
      ],
      "text/html": "<div>\n<style scoped>\n    .dataframe tbody tr th:only-of-type {\n        vertical-align: middle;\n    }\n\n    .dataframe tbody tr th {\n        vertical-align: top;\n    }\n\n    .dataframe thead th {\n        text-align: right;\n    }\n</style>\n<table border=\"1\" class=\"dataframe\">\n  <thead>\n    <tr style=\"text-align: right;\">\n      <th></th>\n      <th>nameGiven</th>\n      <th>careerLength</th>\n    </tr>\n  </thead>\n  <tbody>\n    <tr>\n      <th>0</th>\n      <td>Nicholas</td>\n      <td>35.0</td>\n    </tr>\n    <tr>\n      <th>1</th>\n      <td>James Henry</td>\n      <td>32.0</td>\n    </tr>\n    <tr>\n      <th>2</th>\n      <td>Saturnino Orestes Armas</td>\n      <td>31.0</td>\n    </tr>\n    <tr>\n      <th>3</th>\n      <td>Charles Timothy</td>\n      <td>30.0</td>\n    </tr>\n    <tr>\n      <th>4</th>\n      <td>Walter Arlington</td>\n      <td>29.0</td>\n    </tr>\n  </tbody>\n</table>\n</div>"
     },
     "metadata": {},
     "execution_count": 69
    }
   ],
   "source": [
    "query = '''\n",
    "SELECT nameGiven, (DATE(finalGame) - DATE(debut)) AS careerLength \n",
    "FROM people\n",
    "ORDER BY careerLength DESC\n",
    "'''\n",
    "df = pd.read_sql_query(query, conn)\n",
    "df.head()"
   ]
  },
  {
   "cell_type": "markdown",
   "metadata": {},
   "source": [
    "6. What is the distribution of debut months? *Hint:* Look at the `DATE` and [`EXTRACT`](https://www.postgresql.org/docs/current/static/functions-datetime.html#FUNCTIONS-DATETIME-EXTRACT) functions."
   ]
  },
  {
   "cell_type": "code",
   "execution_count": 133,
   "metadata": {},
   "outputs": [
    {
     "output_type": "execute_result",
     "data": {
      "text/plain": [
       "  DATE(debut)  COUNT(nameGiven)\n",
       "0        None               196\n",
       "1  1871-05-04                18\n",
       "2  1871-05-05                19\n",
       "3  1871-05-06                 9\n",
       "4  1871-05-08                 9"
      ],
      "text/html": "<div>\n<style scoped>\n    .dataframe tbody tr th:only-of-type {\n        vertical-align: middle;\n    }\n\n    .dataframe tbody tr th {\n        vertical-align: top;\n    }\n\n    .dataframe thead th {\n        text-align: right;\n    }\n</style>\n<table border=\"1\" class=\"dataframe\">\n  <thead>\n    <tr style=\"text-align: right;\">\n      <th></th>\n      <th>DATE(debut)</th>\n      <th>COUNT(nameGiven)</th>\n    </tr>\n  </thead>\n  <tbody>\n    <tr>\n      <th>0</th>\n      <td>None</td>\n      <td>196</td>\n    </tr>\n    <tr>\n      <th>1</th>\n      <td>1871-05-04</td>\n      <td>18</td>\n    </tr>\n    <tr>\n      <th>2</th>\n      <td>1871-05-05</td>\n      <td>19</td>\n    </tr>\n    <tr>\n      <th>3</th>\n      <td>1871-05-06</td>\n      <td>9</td>\n    </tr>\n    <tr>\n      <th>4</th>\n      <td>1871-05-08</td>\n      <td>9</td>\n    </tr>\n  </tbody>\n</table>\n</div>"
     },
     "metadata": {},
     "execution_count": 133
    }
   ],
   "source": [
    "query = '''\n",
    "SELECT DATE(debut), COUNT(nameGiven)\n",
    "FROM people\n",
    "GROUP BY DATE(debut)\n",
    "'''\n",
    "df = pd.read_sql_query(query, conn)\n",
    "df.head()"
   ]
  },
  {
   "cell_type": "markdown",
   "metadata": {},
   "source": [
    "7. What is the effect of table join order on mean salary for the players listed in the main (master) table? *Hint:* Perform two different queries, one that joins on playerID in the salary table and other that joins on the same column in the master table. You will have to use left joins for each since right joins are not currently supported with SQLalchemy."
   ]
  },
  {
   "cell_type": "code",
   "execution_count": 127,
   "metadata": {},
   "outputs": [
    {
     "output_type": "execute_result",
     "data": {
      "text/plain": [
       "        nameGiven   AVG(salary)\n",
       "0     David Allan  1.322821e+06\n",
       "1     Henry Louis           NaN\n",
       "2      Tommie Lee           NaN\n",
       "3  Donald William  5.750000e+05\n",
       "4   Fausto Andres  3.270000e+05"
      ],
      "text/html": "<div>\n<style scoped>\n    .dataframe tbody tr th:only-of-type {\n        vertical-align: middle;\n    }\n\n    .dataframe tbody tr th {\n        vertical-align: top;\n    }\n\n    .dataframe thead th {\n        text-align: right;\n    }\n</style>\n<table border=\"1\" class=\"dataframe\">\n  <thead>\n    <tr style=\"text-align: right;\">\n      <th></th>\n      <th>nameGiven</th>\n      <th>AVG(salary)</th>\n    </tr>\n  </thead>\n  <tbody>\n    <tr>\n      <th>0</th>\n      <td>David Allan</td>\n      <td>1.322821e+06</td>\n    </tr>\n    <tr>\n      <th>1</th>\n      <td>Henry Louis</td>\n      <td>NaN</td>\n    </tr>\n    <tr>\n      <th>2</th>\n      <td>Tommie Lee</td>\n      <td>NaN</td>\n    </tr>\n    <tr>\n      <th>3</th>\n      <td>Donald William</td>\n      <td>5.750000e+05</td>\n    </tr>\n    <tr>\n      <th>4</th>\n      <td>Fausto Andres</td>\n      <td>3.270000e+05</td>\n    </tr>\n  </tbody>\n</table>\n</div>"
     },
     "metadata": {},
     "execution_count": 127
    }
   ],
   "source": [
    "query = '''\n",
    "SELECT nameGiven, AVG(salary)\n",
    "FROM people\n",
    "LEFT JOIN salaries ON people.playerID = salaries.playerID\n",
    "GROUP BY people.playerID\n",
    "'''\n",
    "df = pd.read_sql_query(query, conn)\n",
    "df.head()"
   ]
  },
  {
   "cell_type": "code",
   "execution_count": 128,
   "metadata": {},
   "outputs": [
    {
     "output_type": "execute_result",
     "data": {
      "text/plain": [
       "          nameGiven   AVG(salary)\n",
       "0       David Allan  1.322821e+06\n",
       "1    Donald William  5.750000e+05\n",
       "2     Fausto Andres  3.270000e+05\n",
       "3  Fernando Antonio  7.532800e+05\n",
       "4   Jeffrey William  2.462500e+05"
      ],
      "text/html": "<div>\n<style scoped>\n    .dataframe tbody tr th:only-of-type {\n        vertical-align: middle;\n    }\n\n    .dataframe tbody tr th {\n        vertical-align: top;\n    }\n\n    .dataframe thead th {\n        text-align: right;\n    }\n</style>\n<table border=\"1\" class=\"dataframe\">\n  <thead>\n    <tr style=\"text-align: right;\">\n      <th></th>\n      <th>nameGiven</th>\n      <th>AVG(salary)</th>\n    </tr>\n  </thead>\n  <tbody>\n    <tr>\n      <th>0</th>\n      <td>David Allan</td>\n      <td>1.322821e+06</td>\n    </tr>\n    <tr>\n      <th>1</th>\n      <td>Donald William</td>\n      <td>5.750000e+05</td>\n    </tr>\n    <tr>\n      <th>2</th>\n      <td>Fausto Andres</td>\n      <td>3.270000e+05</td>\n    </tr>\n    <tr>\n      <th>3</th>\n      <td>Fernando Antonio</td>\n      <td>7.532800e+05</td>\n    </tr>\n    <tr>\n      <th>4</th>\n      <td>Jeffrey William</td>\n      <td>2.462500e+05</td>\n    </tr>\n  </tbody>\n</table>\n</div>"
     },
     "metadata": {},
     "execution_count": 128
    }
   ],
   "source": [
    "query = '''\n",
    "SELECT nameGiven, AVG(salary)\n",
    "FROM salaries\n",
    "JOIN salaries ON people.playerID = salaries.playerID\n",
    "GROUP BY people.playerID\n",
    "'''\n",
    "df = pd.read_sql_query(query, conn)\n",
    "df.head()"
   ]
  },
  {
   "cell_type": "code",
   "execution_count": null,
   "metadata": {},
   "outputs": [],
   "source": []
  }
 ],
 "metadata": {
  "kernelspec": {
   "display_name": "Python 3",
   "language": "python",
   "name": "python3"
  },
  "language_info": {
   "codemirror_mode": {
    "name": "ipython",
    "version": 3
   },
   "file_extension": ".py",
   "mimetype": "text/x-python",
   "name": "python",
   "nbconvert_exporter": "python",
   "pygments_lexer": "ipython3",
   "version": "3.8.3-final"
  }
 },
 "nbformat": 4,
 "nbformat_minor": 4
}